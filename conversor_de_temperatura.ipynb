{
  "nbformat": 4,
  "nbformat_minor": 0,
  "metadata": {
    "colab": {
      "provenance": []
    },
    "kernelspec": {
      "name": "python3",
      "display_name": "Python 3"
    },
    "language_info": {
      "name": "python"
    }
  },
  "cells": [
    {
      "cell_type": "code",
      "execution_count": 36,
      "metadata": {
        "id": "FF32EgAX-uEW"
      },
      "outputs": [],
      "source": [
        "def celsius_to_fahrenheit(celsius:int):\n",
        "  return round((celsius * 1.8) + 32, 1)\n",
        "\n",
        "def fahrenheit_to_celsius(fahrenheit: float):\n",
        "  return round((fahrenheit - 32) / 1.8, 1)"
      ]
    },
    {
      "cell_type": "code",
      "source": [
        "celsius = 30\n",
        "fahrenheit = celsius_to_fahrenheit(celsius)\n",
        "print(fahrenheit)"
      ],
      "metadata": {
        "colab": {
          "base_uri": "https://localhost:8080/"
        },
        "id": "VgwdQYcMA7df",
        "outputId": "ab88002a-fbb6-4514-fdf0-05309285636b"
      },
      "execution_count": 37,
      "outputs": [
        {
          "output_type": "stream",
          "name": "stdout",
          "text": [
            "86.0\n"
          ]
        }
      ]
    },
    {
      "cell_type": "code",
      "source": [
        "fahrenheit = 86.0\n",
        "celsius = fahrenheit_to_celsius(fahrenheit)\n",
        "print(celsius)"
      ],
      "metadata": {
        "colab": {
          "base_uri": "https://localhost:8080/"
        },
        "id": "KjZgbV3kBh6u",
        "outputId": "42245ecb-7ead-476c-e64d-635dd2c8102e"
      },
      "execution_count": 38,
      "outputs": [
        {
          "output_type": "stream",
          "name": "stdout",
          "text": [
            "30.0\n"
          ]
        }
      ]
    }
  ]
}